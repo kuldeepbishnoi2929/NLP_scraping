{
  "nbformat": 4,
  "nbformat_minor": 0,
  "metadata": {
    "colab": {
      "provenance": [],
      "gpuType": "T4",
      "authorship_tag": "ABX9TyPKeSFOOBhYubLJ3/DT7T1x",
      "include_colab_link": true
    },
    "kernelspec": {
      "name": "python3",
      "display_name": "Python 3"
    },
    "language_info": {
      "name": "python"
    },
    "accelerator": "GPU"
  },
  "cells": [
    {
      "cell_type": "markdown",
      "metadata": {
        "id": "view-in-github",
        "colab_type": "text"
      },
      "source": [
        "<a href=\"https://colab.research.google.com/github/kuldeepbishnoi2929/NLP_scraping/blob/main/Assignment.ipynb\" target=\"_parent\"><img src=\"https://colab.research.google.com/assets/colab-badge.svg\" alt=\"Open In Colab\"/></a>"
      ]
    },
    {
      "cell_type": "markdown",
      "source": [
        "## Import"
      ],
      "metadata": {
        "id": "tRUTZBEH5QK-"
      }
    },
    {
      "cell_type": "code",
      "source": [
        "import numpy as np"
      ],
      "metadata": {
        "id": "c2HBPQ1D5Vli"
      },
      "execution_count": 2,
      "outputs": []
    },
    {
      "cell_type": "markdown",
      "source": [
        "## Compute the Vandermonde matrix"
      ],
      "metadata": {
        "id": "oOtgX1wrwqy_"
      }
    },
    {
      "cell_type": "code",
      "source": [
        "def compute_vandermonde_matrix(xi):\n",
        "\n",
        "    V_matrix = np.zeros((np.size(xi), np.size(xi)))\n",
        "\n",
        "    for i in range(np.size(xi)):\n",
        "        for j in range(np.size(xi)):\n",
        "\n",
        "            index = np.size(xi) - (j+1)\n",
        "\n",
        "            V_matrix[i,j] = xi[i]**(index)\n",
        "\n",
        "\n",
        "    return V_matrix"
      ],
      "metadata": {
        "id": "c7eVKkwIvd9V"
      },
      "execution_count": 3,
      "outputs": []
    },
    {
      "cell_type": "code",
      "source": [
        "xi = np.linspace(0, 2, 5)\n",
        "xi"
      ],
      "metadata": {
        "colab": {
          "base_uri": "https://localhost:8080/"
        },
        "id": "ZwdvX6Tzjw6K",
        "outputId": "3ff6a808-dae0-4df5-b310-6385a04e6474"
      },
      "execution_count": 4,
      "outputs": [
        {
          "output_type": "execute_result",
          "data": {
            "text/plain": [
              "array([0. , 0.5, 1. , 1.5, 2. ])"
            ]
          },
          "metadata": {},
          "execution_count": 4
        }
      ]
    },
    {
      "cell_type": "code",
      "source": [
        "xi = np.linspace(0, 2, 5)\n",
        "vandermonde_matrix = compute_vandermonde_matrix(xi)\n",
        "\n",
        "\n",
        "print(f\"xi = {xi}\")\n",
        "print()\n",
        "print(f\"vandermonde_matrix = \\n{vandermonde_matrix}\")"
      ],
      "metadata": {
        "colab": {
          "base_uri": "https://localhost:8080/"
        },
        "id": "wKMHkS1A2hVA",
        "outputId": "ae1b9b97-d927-44eb-cea6-2c565310ba0a"
      },
      "execution_count": null,
      "outputs": [
        {
          "output_type": "stream",
          "name": "stdout",
          "text": [
            "xi = [0.  0.5 1.  1.5 2. ]\n",
            "\n",
            "vandermonde_matrix = \n",
            "[[ 0.      0.      0.      0.      1.    ]\n",
            " [ 0.0625  0.125   0.25    0.5     1.    ]\n",
            " [ 1.      1.      1.      1.      1.    ]\n",
            " [ 5.0625  3.375   2.25    1.5     1.    ]\n",
            " [16.      8.      4.      2.      1.    ]]\n"
          ]
        }
      ]
    },
    {
      "cell_type": "markdown",
      "source": [
        "## Compute the Vandermonde interpolation"
      ],
      "metadata": {
        "id": "nH2FUWtBxG5q"
      }
    },
    {
      "cell_type": "code",
      "source": [
        "def vandermonde_interpolation(V_matrix, fi):\n",
        "\n",
        "    coeffecient_vector = np.linalg.solve(V_matrix, fi)\n",
        "\n",
        "    return coeffecient_vector"
      ],
      "metadata": {
        "id": "lJ_hUJKnxKf2"
      },
      "execution_count": null,
      "outputs": []
    },
    {
      "cell_type": "code",
      "source": [
        "fi = xi ** 2\n",
        "coeffecient_vector = vandermonde_interpolation(vandermonde_matrix, fi)\n",
        "\n",
        "print(f\"fi = {fi}\")\n",
        "print()\n",
        "print(f\"coeffecient_vector = {coeffecient_vector}\")"
      ],
      "metadata": {
        "colab": {
          "base_uri": "https://localhost:8080/"
        },
        "id": "ZMqVe1eh6AxM",
        "outputId": "1e2c65d1-e034-419d-ea89-f5a2b741353c"
      },
      "execution_count": null,
      "outputs": [
        {
          "output_type": "stream",
          "name": "stdout",
          "text": [
            "fi = [0.   0.25 1.   2.25 4.  ]\n",
            "\n",
            "coeffecient_vector = [0. 0. 1. 0. 0.]\n"
          ]
        }
      ]
    },
    {
      "cell_type": "markdown",
      "source": [
        "## Evaluate solution at a given point"
      ],
      "metadata": {
        "id": "pMv7Yau7x5Wj"
      }
    },
    {
      "cell_type": "code",
      "source": [
        "def evaluate_solution(evaluation_point, coeffecient_vector):\n",
        "\n",
        "    solution = 0.0\n",
        "\n",
        "    for i in range(np.size(coeffecient_vector)):\n",
        "\n",
        "        index = np.size(coeffecient_vector) - (i + 1)\n",
        "\n",
        "        solution += coeffecient_vector[i] * ((evaluation_point) ** (index))\n",
        "\n",
        "    return solution"
      ],
      "metadata": {
        "id": "hPhC959zxMtA"
      },
      "execution_count": null,
      "outputs": []
    },
    {
      "cell_type": "code",
      "source": [
        "evaluation_point = 1.5\n",
        "numerical_solution = evaluate_solution(evaluation_point, coeffecient_vector)\n",
        "\n",
        "print(f\"evaluation_point = {evaluation_point}\")\n",
        "print()\n",
        "print(f\"numerical_solution = {numerical_solution}\")"
      ],
      "metadata": {
        "colab": {
          "base_uri": "https://localhost:8080/"
        },
        "id": "rTpYQOWb8BSH",
        "outputId": "3d2dc19b-1774-43aa-9f80-e963f461ab84"
      },
      "execution_count": null,
      "outputs": [
        {
          "output_type": "stream",
          "name": "stdout",
          "text": [
            "evaluation_point = 1.5\n",
            "\n",
            "numerical_solution = 2.25\n"
          ]
        }
      ]
    },
    {
      "cell_type": "markdown",
      "source": [
        "## User-made function to check the correctness of the method"
      ],
      "metadata": {
        "id": "wNjnfb8WzYU6"
      }
    },
    {
      "cell_type": "code",
      "source": [
        "def f(x):\n",
        "    return x**2\n",
        "\n",
        "analytical_solution = f(evaluation_point)\n",
        "\n",
        "\n",
        "numerical_solution = evaluate_solution(evaluation_point, coeffecient_vector)\n",
        "\n",
        "error = np.abs(analytical_solution - numerical_solution)\n",
        "\n",
        "print(f\"N_points : 5, f(x) = x^2,        Numerical Solution : {numerical_solution}, Analytical Solution : {analytical_solution}, Error : {error}\")"
      ],
      "metadata": {
        "id": "4RcmwgG9z3FZ",
        "colab": {
          "base_uri": "https://localhost:8080/"
        },
        "outputId": "a3672772-2c62-49ea-b7f0-583b89580e19"
      },
      "execution_count": null,
      "outputs": [
        {
          "output_type": "stream",
          "name": "stdout",
          "text": [
            "N_points : 5, f(x) = x^2,        Numerical Solution : 2.25, Analytical Solution : 2.25, Error : 0.0\n"
          ]
        }
      ]
    },
    {
      "cell_type": "markdown",
      "source": [
        "#Final Answer"
      ],
      "metadata": {
        "id": "CyQFdMnL-o-l"
      }
    },
    {
      "cell_type": "code",
      "source": [
        "import numpy as np\n",
        "\n",
        "# Function to compute the Vandermonde matrix\n",
        "def compute_vandermonde_matrix(xi):\n",
        "\n",
        "    V_matrix = np.zeros((np.size(xi), np.size(xi)))\n",
        "\n",
        "    for i in range(np.size(xi)):\n",
        "        for j in range(np.size(xi)):\n",
        "\n",
        "            index = np.size(xi) - (j+1)\n",
        "\n",
        "            V_matrix[i,j] = xi[i]**(index)\n",
        "\n",
        "\n",
        "    return V_matrix\n",
        "\n",
        "# Function to compute the Vandermonde interpolation coefficients\n",
        "def vandermonde_interpolation(V_matrix, fi):\n",
        "\n",
        "    coeffecient_vector = np.linalg.solve(V_matrix, fi)\n",
        "\n",
        "    return coeffecient_vector\n",
        "\n",
        "# Function to evaluate the interpolated polynomial at a given point\n",
        "def evaluate_solution(evaluation_point, coeffecient_vector):\n",
        "\n",
        "    solution = 0.0\n",
        "\n",
        "    for i in range(np.size(coeffecient_vector)):\n",
        "\n",
        "        index = np.size(coeffecient_vector) - (i + 1)\n",
        "\n",
        "        solution += coeffecient_vector[i] * ((evaluation_point) ** (index))\n",
        "\n",
        "    return solution\n",
        "\n",
        "# Function definitions for f1, f2, and f3\n",
        "def f_1(x):\n",
        "    return x ** 2\n",
        "\n",
        "def f_2(x):\n",
        "    return np.sin(x)\n",
        "\n",
        "def f_3(x):\n",
        "    return 1 / (1 + 2 * (x ** 2))\n",
        "\n",
        "\n",
        "# Interval for x\n",
        "a, b = 0, 2\n",
        "evaluation_point = np.pi / 2  # Point of evaluation\n",
        "\n",
        "# Values of n to analyze\n",
        "n_values = [5, 25, 50, 100]\n",
        "\n",
        "# Function list\n",
        "functions = [f_1, f_2, f_3]\n",
        "function_names = [\"f_1(x) = x^2\", \"f_2(x) = sin(x)\", \"f_3(x) = 1 / (1 + 2x^2)\"]\n",
        "\n",
        "# Loop through functions and n values\n",
        "for func, func_name in zip(functions, function_names):\n",
        "    print(f\"Results for {func_name}:\")\n",
        "    print(\"-\" * 50)\n",
        "    for n in n_values:\n",
        "        # Create equidistant points\n",
        "        xi = np.linspace(a, b, n)\n",
        "        fi = func(xi)\n",
        "\n",
        "        # Compute the Vandermonde matrix\n",
        "        V_matrix = compute_vandermonde_matrix(xi)\n",
        "\n",
        "        # Solve for the coefficients\n",
        "        coeffecient_vector = vandermonde_interpolation(V_matrix, fi)\n",
        "\n",
        "        # Evaluate the interpolated polynomial at x = π/2\n",
        "        numerical_solution = evaluate_solution(evaluation_point, coeffecient_vector)\n",
        "        analytical_solution = func(evaluation_point)\n",
        "\n",
        "        # Compute the error\n",
        "        error = np.abs(numerical_solution - analytical_solution)\n",
        "\n",
        "        print(f\"n = {n:3d}, Numerical Solution = {numerical_solution:.6f}, \"\n",
        "              f\"Analytical Solution = {analytical_solution:.6f}, Error = {error:.6e}\")\n",
        "    print(\"\\n\")\n",
        "\n"
      ],
      "metadata": {
        "colab": {
          "base_uri": "https://localhost:8080/"
        },
        "id": "KjMnh6Gi_KaL",
        "outputId": "8f05bad9-d741-41d4-fa4a-a692576d2130"
      },
      "execution_count": null,
      "outputs": [
        {
          "output_type": "stream",
          "name": "stdout",
          "text": [
            "Results for f_1(x) = x^2:\n",
            "--------------------------------------------------\n",
            "n =   5, Numerical Solution = 2.467401, Analytical Solution = 2.467401, Error = 0.000000e+00\n",
            "n =  25, Numerical Solution = 2.467401, Analytical Solution = 2.467401, Error = 1.332268e-15\n",
            "n =  50, Numerical Solution = 2.467401, Analytical Solution = 2.467401, Error = 1.608255e-07\n",
            "n = 100, Numerical Solution = 16710762044.227209, Analytical Solution = 2.467401, Error = 1.671076e+10\n",
            "\n",
            "\n",
            "Results for f_2(x) = sin(x):\n",
            "--------------------------------------------------\n",
            "n =   5, Numerical Solution = 1.000108, Analytical Solution = 1.000000, Error = 1.075820e-04\n",
            "n =  25, Numerical Solution = 1.000000, Analytical Solution = 1.000000, Error = 1.665335e-15\n",
            "n =  50, Numerical Solution = 0.999999, Analytical Solution = 1.000000, Error = 6.712562e-07\n",
            "n = 100, Numerical Solution = -21225678409.910488, Analytical Solution = 1.000000, Error = 2.122568e+10\n",
            "\n",
            "\n",
            "Results for f_3(x) = 1 / (1 + 2x^2):\n",
            "--------------------------------------------------\n",
            "n =   5, Numerical Solution = 0.172733, Analytical Solution = 0.168498, Error = 4.235837e-03\n",
            "n =  25, Numerical Solution = 0.168498, Analytical Solution = 0.168498, Error = 5.906834e-10\n",
            "n =  50, Numerical Solution = 0.168487, Analytical Solution = 0.168498, Error = 1.092204e-05\n",
            "n = 100, Numerical Solution = -110997247421.667343, Analytical Solution = 0.168498, Error = 1.109972e+11\n",
            "\n",
            "\n"
          ]
        }
      ]
    },
    {
      "cell_type": "code",
      "source": [
        "\n",
        "import numpy as np\n",
        "\n",
        "# Compute the Vandermonde matrix\n",
        "# V = [[x_0^n x_0^{n-1} ... 1],\n",
        "#      [x_1^n x_1^{n-1} ... 1],\n",
        "#       ...\n",
        "#      [x_n^n x_n^{n-1} ... 1]]\n",
        "# Input xi                      : The x coordinate of the data set\n",
        "def compute_vandermonde_matrix(xi):\n",
        "    V_matrix = np.zeros((np.size(xi), np.size(xi)))\n",
        "    for i in range(np.size(xi)):\n",
        "        for j in range(np.size(xi)):\n",
        "            # FITB\n",
        "            # The index refers to the exponential terms in Vandermonde matrix\n",
        "            # entries.\n",
        "            # NOTE: Remember how the indices in Python work\n",
        "            index = np.size(xi) -j-1\n",
        "            V_matrix[i,j] = xi[i] ** index\n",
        "    return V_matrix\n",
        "\n",
        "# Compute the Vandermonde interpolation\n",
        "# Input V_matrix : Vandermonde matrix\n",
        "#       fi       : The y coordinate of the data set\n",
        "def vandermonde_interpolation(V_matrix, fi):\n",
        "    coeffecient_vector = np.zeros(np.size(xi))\n",
        "    # FITB\n",
        "    # Solve the system of equations using the solve function of np.linalg\n",
        "    coeffecient_vector = np.linalg.solve(V_matrix, fi)\n",
        "    return coeffecient_vector\n",
        "\n",
        "# Evaluate solution at a given point\n",
        "# Input evaluation_point   : Point where the solution needs to be evaluated\n",
        "#       coeffecient_vector : The coeffecient vector obtained after solving the system\n",
        "def evaluate_solution(evaluation_point, coeffecient_vector):\n",
        "    solution = 0.0\n",
        "    for i in range(np.size(coeffecient_vector)):\n",
        "        # FITB\n",
        "        # The index is similar to the one defined earlier\n",
        "        index = np.size(xi) -i-1\n",
        "        solution = solution + coeffecient_vector[i] * evaluation_point ** index\n",
        "    return solution\n",
        "\n",
        "# User-made function to check the correctness of the method\n",
        "def f_1(x):\n",
        "    return x**2\n",
        "\n",
        "# User-made function to check the correctness of the method\n",
        "def f_2(x):\n",
        "    return np.sin(x)\n",
        "\n",
        "# User-made function to check the correctness of the method\n",
        "def f_3(x):\n",
        "    # FITB\n",
        "    # You need to return 1/(1+2x^2). Look at the function definitions above\n",
        "    # for hint and try to fill it.\n",
        "    return 1/(1+2*x**2)\n",
        "\n",
        "# FITB\n",
        "# Interval at which f is evaluated\n",
        "a = 0\n",
        "b = 2\n",
        "number_points = 5  # Change this value to get different results\n",
        "# Create an array between a and b with equal spacing\n",
        "xi = np.linspace(a, b, number_points)\n",
        "fi_1 = f_1(xi)\n",
        "fi_2 = f_2(xi)\n",
        "fi_3 = f_3(xi)\n",
        "\n",
        "# Vandermonde matrix\n",
        "V_matrix = np.zeros((np.size(xi), np.size(xi)))\n",
        "V_matrix = compute_vandermonde_matrix(xi)\n",
        "\n",
        "# NOTE: As a Debug or testing routine try to print the matrix for a small n (say n=4).\n",
        "#       See if you get the desired result. To print a matrix use print(V_matrix).\n",
        "\n",
        "# Coeffecient vector\n",
        "coeffecient_vector_1 = np.zeros(np.size(xi))\n",
        "coeffecient_vector_2 = np.zeros(np.size(xi))\n",
        "coeffecient_vector_3 = np.zeros(np.size(xi))\n",
        "\n",
        "# FITB\n",
        "# For computing the coeffecient_vector_i you need to call the function\n",
        "# evaluate_solution with appropriate inputs\n",
        "coeffecient_vector_1 = vandermonde_interpolation(V_matrix, fi_1)\n",
        "coeffecient_vector_2 = vandermonde_interpolation(V_matrix, fi_2)\n",
        "coeffecient_vector_3 = vandermonde_interpolation(V_matrix, fi_3)\n",
        "\n",
        "# Point at which the function needs to be evaluated\n",
        "evaluation_point = np.pi/2\n",
        "\n",
        "analytical_solution_1 = f_1(evaluation_point)\n",
        "analytical_solution_2 = f_2(evaluation_point)\n",
        "analytical_solution_3 = f_3(evaluation_point)\n",
        "\n",
        "numerical_solution_1 = evaluate_solution(evaluation_point, coeffecient_vector_1)\n",
        "numerical_solution_2 = evaluate_solution(evaluation_point, coeffecient_vector_2)\n",
        "numerical_solution_3 = evaluate_solution(evaluation_point, coeffecient_vector_3)\n",
        "\n",
        "# FITB\n",
        "# Compute the error using the np.abs function\n",
        "error_1 = np.abs(analytical_solution_1 - numerical_solution_1)\n",
        "error_2 = np.abs(analytical_solution_2 - numerical_solution_2)\n",
        "error_3 = np.abs(analytical_solution_3 - numerical_solution_3)\n",
        "\n",
        "print(f\"N_points : {number_points}, f_1(x) = x^2,        Numerical Solution : {numerical_solution_1}, Analytical Solution : {analytical_solution_1}, Error : {error_1}\")\n",
        "print(f\"N_points : {number_points}, f_2(x) = sin(x),     Numerical Solution : {numerical_solution_2}, Analytical Solution : {analytical_solution_2}, Error : {error_2}\")\n",
        "print(f\"N_points : {number_points}, f_3(x) = 1/(1+2x^2), Numerical Solution : {numerical_solution_3}, Analytical Solution : {analytical_solution_3}, Error : {error_3}\")"
      ],
      "metadata": {
        "colab": {
          "base_uri": "https://localhost:8080/"
        },
        "id": "jKhtlNEpFcNp",
        "outputId": "789bf4ae-f644-4023-a82b-e4012f20e0a8"
      },
      "execution_count": 7,
      "outputs": [
        {
          "output_type": "stream",
          "name": "stdout",
          "text": [
            "N_points : 5, f_1(x) = x^2,        Numerical Solution : 2.467401100272339, Analytical Solution : 2.4674011002723395, Error : 4.440892098500626e-16\n",
            "N_points : 5, f_2(x) = sin(x),     Numerical Solution : 1.0001075820286118, Analytical Solution : 1.0, Error : 0.00010758202861183008\n",
            "N_points : 5, f_3(x) = 1/(1+2x^2), Numerical Solution : 0.17273344883247654, Analytical Solution : 0.16849761225542156, Error : 0.00423583657705498\n"
          ]
        }
      ]
    },
    {
      "cell_type": "code",
      "source": [
        "\n",
        "import numpy as np\n",
        "\n",
        "# Compute the Vandermonde matrix\n",
        "# V = [[x_0^n x_0^{n-1} ... 1],\n",
        "#      [x_1^n x_1^{n-1} ... 1],\n",
        "#       ...\n",
        "#      [x_n^n x_n^{n-1} ... 1]]\n",
        "# Input xi                      : The x coordinate of the data set\n",
        "def compute_vandermonde_matrix(xi):\n",
        "    V_matrix = np.zeros((np.size(xi), np.size(xi)))\n",
        "    for i in range(np.size(xi)):\n",
        "        for j in range(np.size(xi)):\n",
        "            # FITB\n",
        "            # The index refers to the exponential terms in Vandermonde matrix\n",
        "            # entries.\n",
        "            # NOTE: Remember how the indices in Python work\n",
        "            index = np.size(xi) -j-1\n",
        "            V_matrix[i,j] = xi[i] ** index\n",
        "    return V_matrix\n",
        "\n",
        "# Compute the Vandermonde interpolation\n",
        "# Input V_matrix : Vandermonde matrix\n",
        "#       fi       : The y coordinate of the data set\n",
        "def vandermonde_interpolation(V_matrix, fi):\n",
        "    coeffecient_vector = np.zeros(np.size(xi))\n",
        "    # FITB\n",
        "    # Solve the system of equations using the solve function of np.linalg\n",
        "    coeffecient_vector = np.linalg.solve(V_matrix, fi)\n",
        "    return coeffecient_vector\n",
        "\n",
        "# Evaluate solution at a given point\n",
        "# Input evaluation_point   : Point where the solution needs to be evaluated\n",
        "#       coeffecient_vector : The coeffecient vector obtained after solving the system\n",
        "def evaluate_solution(evaluation_point, coeffecient_vector):\n",
        "    solution = 0.0\n",
        "    for i in range(np.size(coeffecient_vector)):\n",
        "        # FITB\n",
        "        # The index is similar to the one defined earlier\n",
        "        index = np.size(xi) -i-1\n",
        "        solution = solution + coeffecient_vector[i] * evaluation_point ** index\n",
        "    return solution\n",
        "\n",
        "# User-made function to check the correctness of the method\n",
        "def f_1(x):\n",
        "    return x**2\n",
        "\n",
        "# User-made function to check the correctness of the method\n",
        "def f_2(x):\n",
        "    return np.sin(x)\n",
        "\n",
        "# User-made function to check the correctness of the method\n",
        "def f_3(x):\n",
        "    # FITB\n",
        "    # You need to return 1/(1+2x^2). Look at the function definitions above\n",
        "    # for hint and try to fill it.\n",
        "    return 1/(1+2*x**2)\n",
        "\n",
        "# FITB\n",
        "# Interval at which f is evaluated\n",
        "a = 0\n",
        "b = 2\n",
        "number_points = 10  # Change this value to get different results\n",
        "# Create an array between a and b with equal spacing\n",
        "xi = np.linspace(a, b, number_points)\n",
        "fi_1 = f_1(xi)\n",
        "fi_2 = f_2(xi)\n",
        "fi_3 = f_3(xi)\n",
        "\n",
        "# Vandermonde matrix\n",
        "V_matrix = np.zeros((np.size(xi), np.size(xi)))\n",
        "V_matrix = compute_vandermonde_matrix(xi)\n",
        "\n",
        "# NOTE: As a Debug or testing routine try to print the matrix for a small n (say n=4).\n",
        "#       See if you get the desired result. To print a matrix use print(V_matrix).\n",
        "\n",
        "# Coeffecient vector\n",
        "coeffecient_vector_1 = np.zeros(np.size(xi))\n",
        "coeffecient_vector_2 = np.zeros(np.size(xi))\n",
        "coeffecient_vector_3 = np.zeros(np.size(xi))\n",
        "\n",
        "# FITB\n",
        "# For computing the coeffecient_vector_i you need to call the function\n",
        "# evaluate_solution with appropriate inputs\n",
        "coeffecient_vector_1 = vandermonde_interpolation(V_matrix, fi_1)\n",
        "coeffecient_vector_2 = vandermonde_interpolation(V_matrix, fi_2)\n",
        "coeffecient_vector_3 = vandermonde_interpolation(V_matrix, fi_3)\n",
        "\n",
        "# Point at which the function needs to be evaluated\n",
        "evaluation_point = np.pi/2\n",
        "\n",
        "analytical_solution_1 = f_1(evaluation_point)\n",
        "analytical_solution_2 = f_2(evaluation_point)\n",
        "analytical_solution_3 = f_3(evaluation_point)\n",
        "\n",
        "numerical_solution_1 = evaluate_solution(evaluation_point, coeffecient_vector_1)\n",
        "numerical_solution_2 = evaluate_solution(evaluation_point, coeffecient_vector_2)\n",
        "numerical_solution_3 = evaluate_solution(evaluation_point, coeffecient_vector_3)\n",
        "\n",
        "# FITB\n",
        "# Compute the error using the np.abs function\n",
        "error_1 = np.abs(analytical_solution_1 - numerical_solution_1)\n",
        "error_2 = np.abs(analytical_solution_2 - numerical_solution_2)\n",
        "error_3 = np.abs(analytical_solution_3 - numerical_solution_3)\n",
        "\n",
        "print(f\"N_points : {number_points}, f_1(x) = x^2,        Numerical Solution : {numerical_solution_1}, Analytical Solution : {analytical_solution_1}, Error : {error_1}\")\n",
        "print(f\"N_points : {number_points}, f_2(x) = sin(x),     Numerical Solution : {numerical_solution_2}, Analytical Solution : {analytical_solution_2}, Error : {error_2}\")\n",
        "print(f\"N_points : {number_points}, f_3(x) = 1/(1+2x^2), Numerical Solution : {numerical_solution_3}, Analytical Solution : {analytical_solution_3}, Error : {error_3}\")"
      ],
      "metadata": {
        "colab": {
          "base_uri": "https://localhost:8080/"
        },
        "id": "kEYJ-9g6HF3Y",
        "outputId": "eb27e831-66ed-41d3-f0c2-66168724f46f"
      },
      "execution_count": 8,
      "outputs": [
        {
          "output_type": "stream",
          "name": "stdout",
          "text": [
            "N_points : 10, f_1(x) = x^2,        Numerical Solution : 2.4674011002723395, Analytical Solution : 2.4674011002723395, Error : 0.0\n",
            "N_points : 10, f_2(x) = sin(x),     Numerical Solution : 1.0000000000511746, Analytical Solution : 1.0, Error : 5.1174620097071966e-11\n",
            "N_points : 10, f_3(x) = 1/(1+2x^2), Numerical Solution : 0.1684842829041373, Analytical Solution : 0.16849761225542156, Error : 1.332935128425805e-05\n"
          ]
        }
      ]
    },
    {
      "cell_type": "code",
      "source": [],
      "metadata": {
        "id": "bf5FeEudHVXe"
      },
      "execution_count": null,
      "outputs": []
    }
  ]
}